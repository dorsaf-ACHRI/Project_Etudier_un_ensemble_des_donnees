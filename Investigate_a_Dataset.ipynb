{
 "cells": [
  {
   "cell_type": "markdown",
   "metadata": {},
   "source": [
    "> **Tip**: Welcome to the Investigate a Dataset project! You will find tips in quoted sections like this to help organize your approach to your investigation. Once you complete this project, remove these **Tip** sections from your report before submission. First things first, you might want to double-click this Markdown cell and change the title so that it reflects your dataset and investigation.\n",
    "\n",
    "# Project: Investigate a Dataset - [Dataset-name]\n",
    "\n",
    "## Table of Contents\n",
    "<ul>\n",
    "<li><a href=\"#intro\">Introduction</a></li>\n",
    "<li><a href=\"#wrangling\">Data Wrangling</a></li>\n",
    "<li><a href=\"#eda\">Exploratory Data Analysis</a></li>\n",
    "<li><a href=\"#conclusions\">Conclusions</a></li>\n",
    "</ul>"
   ]
  },
  {
   "cell_type": "markdown",
   "metadata": {},
   "source": [
    "<a id='intro'></a>\n",
    "## Introduction\n",
    "\n",
    "### Dataset Description \n",
    "\n",
    "Dans ce projet j'ai choisi de travailler sur la base de données \"No-show appointements\".La base de donnée est composée de 14 colonnes:\n",
    "-PatientId: Identifiant du patient\n",
    "-AppointmentID: Identifiant du rendez-vous\n",
    "-Gender: le sexe du patient\n",
    "-ScheduledDay: la date de prise du rendez-vous\n",
    "-AppointmentDay: la date du rendez-vous\n",
    "-Age: l'age du patient\n",
    "-Neighbourhood: la ville du rendez-vous\n",
    "-Scholarship: Est ce que le patient dispose d'une aide financière par le gouvernement brésilien?\n",
    "-Hipertension: vrai ou faux\n",
    "-Diabetes: vrai ou faux\n",
    "-Alcoholism: vrai ou faux\n",
    "-Handcap: 5 catégories des handicaps\n",
    "-SMS_received: le patient a réçu un ou plusieurs messages\n",
    "-No-show: \"Non\" si le patient s'est présenté à son rendez-vous et oui s'il s'absentait.\n",
    "\n",
    "    \n",
    "\n",
    "### Question(s) for Analysis\n",
    "Dans cette étude on va essayer de trouver les facteurs explicatifs des abscences des patients lors de leurs rendez-vous medicaux à partir des variables explicatives présentes dans la base de données.\n",
    "On va chercher analyser le pouvoir explicative de deux types des variables:\n",
    "\n",
    "1-Les variables relatives au rendez-vous: l'écart entre la date de prise du rendez vous (scheduled day) et la date du rendez-vous (appointement day), la reception du message, le jour de la semaine de rendez vous\n",
    "\n",
    "\n",
    "2-Les variables relatives au patient: le sexe,l'age, la ville, aide financière,hypertension,diabete,alcoholism,handicap,\n"
   ]
  },
  {
   "cell_type": "code",
   "execution_count": 1,
   "metadata": {},
   "outputs": [],
   "source": [
    "# Use this cell to set up import statements for all of the packages that you\n",
    "#   plan to use.\n",
    "\n",
    "# Remember to include a 'magic word' so that your visualizations are plotted\n",
    "#   inline with the notebook. See this page for more:\n",
    "#   http://ipython.readthedocs.io/en/stable/interactive/magics.html\n",
    "import pandas as pd\n",
    "import numpy as np\n",
    "import matplotlib.pyplot as plt\n",
    "import seaborn as sns\n",
    "%matplotlib inline  \n",
    "\n"
   ]
  },
  {
   "cell_type": "code",
   "execution_count": 2,
   "metadata": {},
   "outputs": [
    {
     "name": "stdout",
     "output_type": "stream",
     "text": [
      "Requirement already up-to-date: pandas==0.25.0 in /opt/conda/lib/python3.6/site-packages (0.25.0)\n",
      "Requirement already satisfied, skipping upgrade: numpy>=1.13.3 in /opt/conda/lib/python3.6/site-packages (from pandas==0.25.0) (1.19.5)\n",
      "Requirement already satisfied, skipping upgrade: pytz>=2017.2 in /opt/conda/lib/python3.6/site-packages (from pandas==0.25.0) (2017.3)\n",
      "Requirement already satisfied, skipping upgrade: python-dateutil>=2.6.1 in /opt/conda/lib/python3.6/site-packages (from pandas==0.25.0) (2.6.1)\n",
      "Requirement already satisfied, skipping upgrade: six>=1.5 in /opt/conda/lib/python3.6/site-packages (from python-dateutil>=2.6.1->pandas==0.25.0) (1.11.0)\n"
     ]
    }
   ],
   "source": [
    "# Upgrade pandas to use dataframe.explode() function. \n",
    "!pip install --upgrade pandas==0.25.0"
   ]
  },
  {
   "cell_type": "code",
   "execution_count": 69,
   "metadata": {},
   "outputs": [
    {
     "data": {
      "text/html": [
       "<div>\n",
       "<style scoped>\n",
       "    .dataframe tbody tr th:only-of-type {\n",
       "        vertical-align: middle;\n",
       "    }\n",
       "\n",
       "    .dataframe tbody tr th {\n",
       "        vertical-align: top;\n",
       "    }\n",
       "\n",
       "    .dataframe thead th {\n",
       "        text-align: right;\n",
       "    }\n",
       "</style>\n",
       "<table border=\"1\" class=\"dataframe\">\n",
       "  <thead>\n",
       "    <tr style=\"text-align: right;\">\n",
       "      <th></th>\n",
       "      <th>PatientId</th>\n",
       "      <th>AppointmentID</th>\n",
       "      <th>Gender</th>\n",
       "      <th>ScheduledDay</th>\n",
       "      <th>AppointmentDay</th>\n",
       "      <th>Age</th>\n",
       "      <th>Neighbourhood</th>\n",
       "      <th>Scholarship</th>\n",
       "      <th>Hipertension</th>\n",
       "      <th>Diabetes</th>\n",
       "      <th>Alcoholism</th>\n",
       "      <th>Handcap</th>\n",
       "      <th>SMS_received</th>\n",
       "      <th>No-show</th>\n",
       "    </tr>\n",
       "  </thead>\n",
       "  <tbody>\n",
       "    <tr>\n",
       "      <th>0</th>\n",
       "      <td>2.987250e+13</td>\n",
       "      <td>5642903</td>\n",
       "      <td>F</td>\n",
       "      <td>2016-04-29T18:38:08Z</td>\n",
       "      <td>2016-04-29T00:00:00Z</td>\n",
       "      <td>62</td>\n",
       "      <td>JARDIM DA PENHA</td>\n",
       "      <td>0</td>\n",
       "      <td>1</td>\n",
       "      <td>0</td>\n",
       "      <td>0</td>\n",
       "      <td>0</td>\n",
       "      <td>0</td>\n",
       "      <td>No</td>\n",
       "    </tr>\n",
       "    <tr>\n",
       "      <th>1</th>\n",
       "      <td>5.589978e+14</td>\n",
       "      <td>5642503</td>\n",
       "      <td>M</td>\n",
       "      <td>2016-04-29T16:08:27Z</td>\n",
       "      <td>2016-04-29T00:00:00Z</td>\n",
       "      <td>56</td>\n",
       "      <td>JARDIM DA PENHA</td>\n",
       "      <td>0</td>\n",
       "      <td>0</td>\n",
       "      <td>0</td>\n",
       "      <td>0</td>\n",
       "      <td>0</td>\n",
       "      <td>0</td>\n",
       "      <td>No</td>\n",
       "    </tr>\n",
       "    <tr>\n",
       "      <th>2</th>\n",
       "      <td>4.262962e+12</td>\n",
       "      <td>5642549</td>\n",
       "      <td>F</td>\n",
       "      <td>2016-04-29T16:19:04Z</td>\n",
       "      <td>2016-04-29T00:00:00Z</td>\n",
       "      <td>62</td>\n",
       "      <td>MATA DA PRAIA</td>\n",
       "      <td>0</td>\n",
       "      <td>0</td>\n",
       "      <td>0</td>\n",
       "      <td>0</td>\n",
       "      <td>0</td>\n",
       "      <td>0</td>\n",
       "      <td>No</td>\n",
       "    </tr>\n",
       "    <tr>\n",
       "      <th>3</th>\n",
       "      <td>8.679512e+11</td>\n",
       "      <td>5642828</td>\n",
       "      <td>F</td>\n",
       "      <td>2016-04-29T17:29:31Z</td>\n",
       "      <td>2016-04-29T00:00:00Z</td>\n",
       "      <td>8</td>\n",
       "      <td>PONTAL DE CAMBURI</td>\n",
       "      <td>0</td>\n",
       "      <td>0</td>\n",
       "      <td>0</td>\n",
       "      <td>0</td>\n",
       "      <td>0</td>\n",
       "      <td>0</td>\n",
       "      <td>No</td>\n",
       "    </tr>\n",
       "    <tr>\n",
       "      <th>4</th>\n",
       "      <td>8.841186e+12</td>\n",
       "      <td>5642494</td>\n",
       "      <td>F</td>\n",
       "      <td>2016-04-29T16:07:23Z</td>\n",
       "      <td>2016-04-29T00:00:00Z</td>\n",
       "      <td>56</td>\n",
       "      <td>JARDIM DA PENHA</td>\n",
       "      <td>0</td>\n",
       "      <td>1</td>\n",
       "      <td>1</td>\n",
       "      <td>0</td>\n",
       "      <td>0</td>\n",
       "      <td>0</td>\n",
       "      <td>No</td>\n",
       "    </tr>\n",
       "  </tbody>\n",
       "</table>\n",
       "</div>"
      ],
      "text/plain": [
       "      PatientId  AppointmentID Gender          ScheduledDay  \\\n",
       "0  2.987250e+13        5642903      F  2016-04-29T18:38:08Z   \n",
       "1  5.589978e+14        5642503      M  2016-04-29T16:08:27Z   \n",
       "2  4.262962e+12        5642549      F  2016-04-29T16:19:04Z   \n",
       "3  8.679512e+11        5642828      F  2016-04-29T17:29:31Z   \n",
       "4  8.841186e+12        5642494      F  2016-04-29T16:07:23Z   \n",
       "\n",
       "         AppointmentDay  Age      Neighbourhood  Scholarship  Hipertension  \\\n",
       "0  2016-04-29T00:00:00Z   62    JARDIM DA PENHA            0             1   \n",
       "1  2016-04-29T00:00:00Z   56    JARDIM DA PENHA            0             0   \n",
       "2  2016-04-29T00:00:00Z   62      MATA DA PRAIA            0             0   \n",
       "3  2016-04-29T00:00:00Z    8  PONTAL DE CAMBURI            0             0   \n",
       "4  2016-04-29T00:00:00Z   56    JARDIM DA PENHA            0             1   \n",
       "\n",
       "   Diabetes  Alcoholism  Handcap  SMS_received No-show  \n",
       "0         0           0        0             0      No  \n",
       "1         0           0        0             0      No  \n",
       "2         0           0        0             0      No  \n",
       "3         0           0        0             0      No  \n",
       "4         1           0        0             0      No  "
      ]
     },
     "execution_count": 69,
     "metadata": {},
     "output_type": "execute_result"
    }
   ],
   "source": [
    "# Load your data and print out a few lines. Perform operations to inspect data\n",
    "#   types and look for instances of missing or possibly errant data.\n",
    "df = pd.read_csv(\"noshowappointments-kagglev2-may-2016.csv\",sep=',')\n",
    "df.head()"
   ]
  },
  {
   "cell_type": "code",
   "execution_count": 4,
   "metadata": {},
   "outputs": [
    {
     "data": {
      "text/plain": [
       "(110527, 14)"
      ]
     },
     "execution_count": 4,
     "metadata": {},
     "output_type": "execute_result"
    }
   ],
   "source": [
    "df.shape"
   ]
  },
  {
   "cell_type": "markdown",
   "metadata": {},
   "source": [
    "La base de données est composée de 110527 lignes et 14 colonnes."
   ]
  },
  {
   "cell_type": "code",
   "execution_count": 5,
   "metadata": {},
   "outputs": [
    {
     "data": {
      "text/plain": [
       "PatientId         0\n",
       "AppointmentID     0\n",
       "Gender            0\n",
       "ScheduledDay      0\n",
       "AppointmentDay    0\n",
       "Age               0\n",
       "Neighbourhood     0\n",
       "Scholarship       0\n",
       "Hipertension      0\n",
       "Diabetes          0\n",
       "Alcoholism        0\n",
       "Handcap           0\n",
       "SMS_received      0\n",
       "No-show           0\n",
       "dtype: int64"
      ]
     },
     "execution_count": 5,
     "metadata": {},
     "output_type": "execute_result"
    }
   ],
   "source": [
    "df.isnull().sum()"
   ]
  },
  {
   "cell_type": "markdown",
   "metadata": {},
   "source": [
    "Cette commande nous permet de savoir le nombre des valeurs manquantes par colonne. On pourra choisir par la suite soit de dropper les colonnes avec des valeurs manquantes ou de les remplir moyennant la commande fillna.\n",
    "\n",
    "La commande montre qu'aucune colonne n'a des valeurs manquantes.\n"
   ]
  },
  {
   "cell_type": "code",
   "execution_count": 6,
   "metadata": {},
   "outputs": [
    {
     "data": {
      "text/html": [
       "<div>\n",
       "<style scoped>\n",
       "    .dataframe tbody tr th:only-of-type {\n",
       "        vertical-align: middle;\n",
       "    }\n",
       "\n",
       "    .dataframe tbody tr th {\n",
       "        vertical-align: top;\n",
       "    }\n",
       "\n",
       "    .dataframe thead th {\n",
       "        text-align: right;\n",
       "    }\n",
       "</style>\n",
       "<table border=\"1\" class=\"dataframe\">\n",
       "  <thead>\n",
       "    <tr style=\"text-align: right;\">\n",
       "      <th></th>\n",
       "      <th>PatientId</th>\n",
       "      <th>AppointmentID</th>\n",
       "      <th>Age</th>\n",
       "      <th>Scholarship</th>\n",
       "      <th>Hipertension</th>\n",
       "      <th>Diabetes</th>\n",
       "      <th>Alcoholism</th>\n",
       "      <th>Handcap</th>\n",
       "      <th>SMS_received</th>\n",
       "    </tr>\n",
       "  </thead>\n",
       "  <tbody>\n",
       "    <tr>\n",
       "      <th>count</th>\n",
       "      <td>1.105270e+05</td>\n",
       "      <td>1.105270e+05</td>\n",
       "      <td>110527.000000</td>\n",
       "      <td>110527.000000</td>\n",
       "      <td>110527.000000</td>\n",
       "      <td>110527.000000</td>\n",
       "      <td>110527.000000</td>\n",
       "      <td>110527.000000</td>\n",
       "      <td>110527.000000</td>\n",
       "    </tr>\n",
       "    <tr>\n",
       "      <th>mean</th>\n",
       "      <td>1.474963e+14</td>\n",
       "      <td>5.675305e+06</td>\n",
       "      <td>37.088874</td>\n",
       "      <td>0.098266</td>\n",
       "      <td>0.197246</td>\n",
       "      <td>0.071865</td>\n",
       "      <td>0.030400</td>\n",
       "      <td>0.022248</td>\n",
       "      <td>0.321026</td>\n",
       "    </tr>\n",
       "    <tr>\n",
       "      <th>std</th>\n",
       "      <td>2.560949e+14</td>\n",
       "      <td>7.129575e+04</td>\n",
       "      <td>23.110205</td>\n",
       "      <td>0.297675</td>\n",
       "      <td>0.397921</td>\n",
       "      <td>0.258265</td>\n",
       "      <td>0.171686</td>\n",
       "      <td>0.161543</td>\n",
       "      <td>0.466873</td>\n",
       "    </tr>\n",
       "    <tr>\n",
       "      <th>min</th>\n",
       "      <td>3.921784e+04</td>\n",
       "      <td>5.030230e+06</td>\n",
       "      <td>-1.000000</td>\n",
       "      <td>0.000000</td>\n",
       "      <td>0.000000</td>\n",
       "      <td>0.000000</td>\n",
       "      <td>0.000000</td>\n",
       "      <td>0.000000</td>\n",
       "      <td>0.000000</td>\n",
       "    </tr>\n",
       "    <tr>\n",
       "      <th>25%</th>\n",
       "      <td>4.172614e+12</td>\n",
       "      <td>5.640286e+06</td>\n",
       "      <td>18.000000</td>\n",
       "      <td>0.000000</td>\n",
       "      <td>0.000000</td>\n",
       "      <td>0.000000</td>\n",
       "      <td>0.000000</td>\n",
       "      <td>0.000000</td>\n",
       "      <td>0.000000</td>\n",
       "    </tr>\n",
       "    <tr>\n",
       "      <th>50%</th>\n",
       "      <td>3.173184e+13</td>\n",
       "      <td>5.680573e+06</td>\n",
       "      <td>37.000000</td>\n",
       "      <td>0.000000</td>\n",
       "      <td>0.000000</td>\n",
       "      <td>0.000000</td>\n",
       "      <td>0.000000</td>\n",
       "      <td>0.000000</td>\n",
       "      <td>0.000000</td>\n",
       "    </tr>\n",
       "    <tr>\n",
       "      <th>75%</th>\n",
       "      <td>9.439172e+13</td>\n",
       "      <td>5.725524e+06</td>\n",
       "      <td>55.000000</td>\n",
       "      <td>0.000000</td>\n",
       "      <td>0.000000</td>\n",
       "      <td>0.000000</td>\n",
       "      <td>0.000000</td>\n",
       "      <td>0.000000</td>\n",
       "      <td>1.000000</td>\n",
       "    </tr>\n",
       "    <tr>\n",
       "      <th>max</th>\n",
       "      <td>9.999816e+14</td>\n",
       "      <td>5.790484e+06</td>\n",
       "      <td>115.000000</td>\n",
       "      <td>1.000000</td>\n",
       "      <td>1.000000</td>\n",
       "      <td>1.000000</td>\n",
       "      <td>1.000000</td>\n",
       "      <td>4.000000</td>\n",
       "      <td>1.000000</td>\n",
       "    </tr>\n",
       "  </tbody>\n",
       "</table>\n",
       "</div>"
      ],
      "text/plain": [
       "          PatientId  AppointmentID            Age    Scholarship  \\\n",
       "count  1.105270e+05   1.105270e+05  110527.000000  110527.000000   \n",
       "mean   1.474963e+14   5.675305e+06      37.088874       0.098266   \n",
       "std    2.560949e+14   7.129575e+04      23.110205       0.297675   \n",
       "min    3.921784e+04   5.030230e+06      -1.000000       0.000000   \n",
       "25%    4.172614e+12   5.640286e+06      18.000000       0.000000   \n",
       "50%    3.173184e+13   5.680573e+06      37.000000       0.000000   \n",
       "75%    9.439172e+13   5.725524e+06      55.000000       0.000000   \n",
       "max    9.999816e+14   5.790484e+06     115.000000       1.000000   \n",
       "\n",
       "        Hipertension       Diabetes     Alcoholism        Handcap  \\\n",
       "count  110527.000000  110527.000000  110527.000000  110527.000000   \n",
       "mean        0.197246       0.071865       0.030400       0.022248   \n",
       "std         0.397921       0.258265       0.171686       0.161543   \n",
       "min         0.000000       0.000000       0.000000       0.000000   \n",
       "25%         0.000000       0.000000       0.000000       0.000000   \n",
       "50%         0.000000       0.000000       0.000000       0.000000   \n",
       "75%         0.000000       0.000000       0.000000       0.000000   \n",
       "max         1.000000       1.000000       1.000000       4.000000   \n",
       "\n",
       "        SMS_received  \n",
       "count  110527.000000  \n",
       "mean        0.321026  \n",
       "std         0.466873  \n",
       "min         0.000000  \n",
       "25%         0.000000  \n",
       "50%         0.000000  \n",
       "75%         1.000000  \n",
       "max         1.000000  "
      ]
     },
     "execution_count": 6,
     "metadata": {},
     "output_type": "execute_result"
    }
   ],
   "source": [
    "df.describe()"
   ]
  },
  {
   "cell_type": "markdown",
   "metadata": {},
   "source": [
    "df.describe renseigne également sur le nombre des observations non nulles par colonne.\n",
    "En plus de ceci ça renseigne sur la moyennes des variables, l'écart-type, les minimums, les maximums et différents niveaux de quantile.ça peut etre itéressant pour voir la dispersion des observations (écart-type élevé) en plus de faciliter la détection des valeurs abbérantes (surtout à l'aide des maximum et minimums si on connait un intervale acceptable des données)\n",
    "\n",
    "Pour notre base de données:\n",
    "-Age: l'age maximal est de 115 ce qui peut etre accepté mais l'age minimum est de -1 (valeur négative) ce qui est abbérant car l'age est positif. Pour cette valeur si elle est nombreuse on va rectifier par la moyenne sinon on va juste dropper les lignes concernées.\n",
    "-Pour les variables avec des modalités ( 2 ou 5 ) les outputs sont logiques."
   ]
  },
  {
   "cell_type": "code",
   "execution_count": 7,
   "metadata": {
    "scrolled": true
   },
   "outputs": [
    {
     "name": "stdout",
     "output_type": "stream",
     "text": [
      "<class 'pandas.core.frame.DataFrame'>\n",
      "RangeIndex: 110527 entries, 0 to 110526\n",
      "Data columns (total 14 columns):\n",
      "PatientId         110527 non-null float64\n",
      "AppointmentID     110527 non-null int64\n",
      "Gender            110527 non-null object\n",
      "ScheduledDay      110527 non-null object\n",
      "AppointmentDay    110527 non-null object\n",
      "Age               110527 non-null int64\n",
      "Neighbourhood     110527 non-null object\n",
      "Scholarship       110527 non-null int64\n",
      "Hipertension      110527 non-null int64\n",
      "Diabetes          110527 non-null int64\n",
      "Alcoholism        110527 non-null int64\n",
      "Handcap           110527 non-null int64\n",
      "SMS_received      110527 non-null int64\n",
      "No-show           110527 non-null object\n",
      "dtypes: float64(1), int64(8), object(5)\n",
      "memory usage: 11.8+ MB\n"
     ]
    }
   ],
   "source": [
    "df.info()"
   ]
  },
  {
   "cell_type": "markdown",
   "metadata": {},
   "source": [
    "df.info() résume entre autres le role de df.dtypes et ça renseigne sur les types des différents variables en plus du nombre des valeurs non nulles par colonnes.\n",
    "ça permet de detecter s'il y'a un problème de type qui va bloquer l'analyse par la suite.\n",
    "Pour notre base: \n",
    "-AppointementID doit etre un float\n",
    "-ScheduledDay doit etre une date\n",
    "-AppointementDay doit etre une date et mettre au meme format que ScheduledDay pour minimiser les risques d'incompatibilité par la suite\n",
    "-Age peut rester un entier\n",
    "-Neighbourhood est un objet. en investigant d'avantage ça montre que c'est un string ce qui est bon.\n",
    "-Scholarship, Hipertension, Diabetes, Alcoholism, Handcap, SMS_received : sont des entiers.on peut les garder.\n",
    "\n",
    "\n"
   ]
  },
  {
   "cell_type": "code",
   "execution_count": 77,
   "metadata": {},
   "outputs": [
    {
     "data": {
      "text/plain": [
       "pandas._libs.tslibs.timestamps.Timestamp"
      ]
     },
     "execution_count": 77,
     "metadata": {},
     "output_type": "execute_result"
    }
   ],
   "source": [
    "#Investiguer Neighbourhood encore plus\n",
    "type(df['ScheduledDay'][0])"
   ]
  },
  {
   "cell_type": "code",
   "execution_count": 16,
   "metadata": {},
   "outputs": [
    {
     "data": {
      "text/plain": [
       "0"
      ]
     },
     "execution_count": 16,
     "metadata": {},
     "output_type": "execute_result"
    }
   ],
   "source": [
    "df.duplicated().sum()"
   ]
  },
  {
   "cell_type": "markdown",
   "metadata": {},
   "source": [
    "On calcule le nombre des duplicates et on décide par la suite si on va les garder ou éliminer certains.\n",
    "Pour notre base il n'y a pas de duplicates"
   ]
  },
  {
   "cell_type": "code",
   "execution_count": 30,
   "metadata": {},
   "outputs": [
    {
     "data": {
      "text/plain": [
       "PatientId          62299\n",
       "AppointmentID     110527\n",
       "Gender                 2\n",
       "ScheduledDay      103549\n",
       "AppointmentDay        27\n",
       "Age                  104\n",
       "Neighbourhood         81\n",
       "Scholarship            2\n",
       "Hipertension           2\n",
       "Diabetes               2\n",
       "Alcoholism             2\n",
       "Handcap                5\n",
       "SMS_received           2\n",
       "No-show                2\n",
       "dtype: int64"
      ]
     },
     "execution_count": 30,
     "metadata": {},
     "output_type": "execute_result"
    }
   ],
   "source": [
    "df.nunique()"
   ]
  },
  {
   "cell_type": "markdown",
   "metadata": {},
   "source": [
    "Voir le nombre des valeurs uniques par variables. Pour les variables à modalités définies ça doit etre inférieur ou égale ou nombre des modalités disponibles sinon c'est une abbération.\n",
    "Pour notre base on remarque que les ScheduledDay sont largement supérieures aux AppointementDay ce qui confirme que ScheduledDay doit etre mis sous le format de AppointementDay pour que deux jours identiques dans les deux variables seront identifiés comme identiques."
   ]
  },
  {
   "cell_type": "code",
   "execution_count": 38,
   "metadata": {},
   "outputs": [
    {
     "data": {
      "text/plain": [
       "array([ 62,  56,   8,  76,  23,  39,  21,  19,  30,  29,  22,  28,  54,\n",
       "        15,  50,  40,  46,   4,  13,  65,  45,  51,  32,  12,  61,  38,\n",
       "        79,  18,  63,  64,  85,  59,  55,  71,  49,  78,  31,  58,  27,\n",
       "         6,   2,  11,   7,   0,   3,   1,  69,  68,  60,  67,  36,  10,\n",
       "        35,  20,  26,  34,  33,  16,  42,   5,  47,  17,  41,  44,  37,\n",
       "        24,  66,  77,  81,  70,  53,  75,  73,  52,  74,  43,  89,  57,\n",
       "        14,   9,  48,  83,  72,  25,  80,  87,  88,  84,  82,  90,  94,\n",
       "        86,  91,  98,  92,  96,  93,  95,  97, 102, 115, 100,  99,  -1])"
      ]
     },
     "execution_count": 38,
     "metadata": {},
     "output_type": "execute_result"
    }
   ],
   "source": [
    "df.Age.unique()"
   ]
  },
  {
   "cell_type": "code",
   "execution_count": 8,
   "metadata": {},
   "outputs": [
    {
     "name": "stdout",
     "output_type": "stream",
     "text": [
      "0 PatientId\n",
      "1 AppointmentID\n",
      "2 Gender\n",
      "3 ScheduledDay\n",
      "4 AppointmentDay\n",
      "5 Age\n",
      "6 Neighbourhood\n",
      "7 Scholarship\n",
      "8 Hipertension\n",
      "9 Diabetes\n",
      "10 Alcoholism\n",
      "11 Handcap\n",
      "12 SMS_received\n",
      "13 No-show\n"
     ]
    }
   ],
   "source": [
    "# View the index number and label for each column\n",
    "for i, v in enumerate(df.columns):\n",
    "    print(i, v)"
   ]
  },
  {
   "cell_type": "markdown",
   "metadata": {},
   "source": [
    "Pour investiguer les libelés des colonnes et les changer pour les rendre plus facile dans les appels des fonctions appliqués sur DataFrame.\n",
    "-On doit mettre tous les lettres en lowercase car c'est plus facile à manipuler\n",
    "-Corriger l'orthographe de Neighborhood, Handicap,Hipertension.En outre, on doit éliminer \"-\" de No-show et \"_\" de Sms_received car ça devient impossible de l'appeler par df.column\n"
   ]
  },
  {
   "cell_type": "code",
   "execution_count": 2,
   "metadata": {},
   "outputs": [
    {
     "data": {
      "text/plain": [
       "(110526, 14)"
      ]
     },
     "execution_count": 2,
     "metadata": {},
     "output_type": "execute_result"
    }
   ],
   "source": [
    "#Drop age négatif si pas beaucoup d’observation\n",
    "import pandas as pd\n",
    "df = pd.read_csv(\"noshowappointments-kagglev2-may-2016.csv\",sep=',')\n",
    "\n",
    "###Savoir si on elimine l'age negatif ou on utilise fillna en calculant le nombre d'observation avec un age négatif\n",
    "dd=df.query('Age < 0')\n",
    "dd.shape\n",
    "\n",
    "#Une seule observation donc on peut se permettre de l'éliminer de la base qui est assez large\n",
    "df.drop(df[df['Age'] < 0].index, inplace = True)\n",
    "\n",
    "#Vérifier que la modification est prise en compte\n",
    "df.shape\n"
   ]
  },
  {
   "cell_type": "code",
   "execution_count": 3,
   "metadata": {},
   "outputs": [
    {
     "data": {
      "text/html": [
       "<div>\n",
       "<style scoped>\n",
       "    .dataframe tbody tr th:only-of-type {\n",
       "        vertical-align: middle;\n",
       "    }\n",
       "\n",
       "    .dataframe tbody tr th {\n",
       "        vertical-align: top;\n",
       "    }\n",
       "\n",
       "    .dataframe thead th {\n",
       "        text-align: right;\n",
       "    }\n",
       "</style>\n",
       "<table border=\"1\" class=\"dataframe\">\n",
       "  <thead>\n",
       "    <tr style=\"text-align: right;\">\n",
       "      <th></th>\n",
       "      <th>PatientId</th>\n",
       "      <th>AppointmentID</th>\n",
       "      <th>Gender</th>\n",
       "      <th>ScheduledDay</th>\n",
       "      <th>AppointmentDay</th>\n",
       "      <th>Age</th>\n",
       "      <th>Neighbourhood</th>\n",
       "      <th>Scholarship</th>\n",
       "      <th>Hipertension</th>\n",
       "      <th>Diabetes</th>\n",
       "      <th>Alcoholism</th>\n",
       "      <th>Handcap</th>\n",
       "      <th>SMS_received</th>\n",
       "      <th>No-show</th>\n",
       "    </tr>\n",
       "  </thead>\n",
       "  <tbody>\n",
       "    <tr>\n",
       "      <th>0</th>\n",
       "      <td>2.987250e+13</td>\n",
       "      <td>5642903.0</td>\n",
       "      <td>F</td>\n",
       "      <td>2016-04-29 18:38:08</td>\n",
       "      <td>2016-04-29</td>\n",
       "      <td>62</td>\n",
       "      <td>JARDIM DA PENHA</td>\n",
       "      <td>0</td>\n",
       "      <td>1</td>\n",
       "      <td>0</td>\n",
       "      <td>0</td>\n",
       "      <td>0</td>\n",
       "      <td>0</td>\n",
       "      <td>No</td>\n",
       "    </tr>\n",
       "  </tbody>\n",
       "</table>\n",
       "</div>"
      ],
      "text/plain": [
       "      PatientId  AppointmentID Gender        ScheduledDay AppointmentDay  Age  \\\n",
       "0  2.987250e+13      5642903.0      F 2016-04-29 18:38:08     2016-04-29   62   \n",
       "\n",
       "     Neighbourhood  Scholarship  Hipertension  Diabetes  Alcoholism  Handcap  \\\n",
       "0  JARDIM DA PENHA            0             1         0           0        0   \n",
       "\n",
       "   SMS_received No-show  \n",
       "0             0      No  "
      ]
     },
     "execution_count": 3,
     "metadata": {},
     "output_type": "execute_result"
    }
   ],
   "source": [
    "#AppointementID doit etre un float\n",
    "df.AppointmentID= df.AppointmentID.astype(float)\n",
    "df.head(1)\n",
    "\n",
    "#ScheduledDay doit etre une date\n",
    "df.ScheduledDay = pd.to_datetime(df.ScheduledDay)\n",
    "df.head(1)\n",
    "\n",
    "#AppointementDay doit etre une date et mettre au meme format que ScheduledDay\n",
    "df.AppointmentDay = pd.to_datetime(df.AppointmentDay)\n",
    "df.head(1)\n"
   ]
  },
  {
   "cell_type": "markdown",
   "metadata": {},
   "source": [
    "Aprés chaque modification on exécute la commande df.head(1) pour vérifier que la commande à été bien prise en compte."
   ]
  },
  {
   "cell_type": "code",
   "execution_count": 4,
   "metadata": {},
   "outputs": [
    {
     "data": {
      "text/html": [
       "<div>\n",
       "<style scoped>\n",
       "    .dataframe tbody tr th:only-of-type {\n",
       "        vertical-align: middle;\n",
       "    }\n",
       "\n",
       "    .dataframe tbody tr th {\n",
       "        vertical-align: top;\n",
       "    }\n",
       "\n",
       "    .dataframe thead th {\n",
       "        text-align: right;\n",
       "    }\n",
       "</style>\n",
       "<table border=\"1\" class=\"dataframe\">\n",
       "  <thead>\n",
       "    <tr style=\"text-align: right;\">\n",
       "      <th></th>\n",
       "      <th>patientid</th>\n",
       "      <th>appointmentid</th>\n",
       "      <th>gender</th>\n",
       "      <th>scheduledday</th>\n",
       "      <th>appointmentday</th>\n",
       "      <th>age</th>\n",
       "      <th>neighborhood</th>\n",
       "      <th>scholarship</th>\n",
       "      <th>hypertension</th>\n",
       "      <th>diabetes</th>\n",
       "      <th>alcoholism</th>\n",
       "      <th>handicap</th>\n",
       "      <th>smsreceived</th>\n",
       "      <th>noshow</th>\n",
       "    </tr>\n",
       "  </thead>\n",
       "  <tbody>\n",
       "    <tr>\n",
       "      <th>0</th>\n",
       "      <td>2.987250e+13</td>\n",
       "      <td>5642903.0</td>\n",
       "      <td>F</td>\n",
       "      <td>2016-04-29 18:38:08</td>\n",
       "      <td>2016-04-29</td>\n",
       "      <td>62</td>\n",
       "      <td>JARDIM DA PENHA</td>\n",
       "      <td>0</td>\n",
       "      <td>1</td>\n",
       "      <td>0</td>\n",
       "      <td>0</td>\n",
       "      <td>0</td>\n",
       "      <td>0</td>\n",
       "      <td>No</td>\n",
       "    </tr>\n",
       "  </tbody>\n",
       "</table>\n",
       "</div>"
      ],
      "text/plain": [
       "      patientid  appointmentid gender        scheduledday appointmentday  age  \\\n",
       "0  2.987250e+13      5642903.0      F 2016-04-29 18:38:08     2016-04-29   62   \n",
       "\n",
       "      neighborhood  scholarship  hypertension  diabetes  alcoholism  handicap  \\\n",
       "0  JARDIM DA PENHA            0             1         0           0         0   \n",
       "\n",
       "   smsreceived noshow  \n",
       "0            0     No  "
      ]
     },
     "execution_count": 4,
     "metadata": {},
     "output_type": "execute_result"
    }
   ],
   "source": [
    "\n",
    "#Corriger l'orthographe de Neighborhood, hypertension, Handicap\n",
    "df.rename(columns={'Neighbourhood': 'Neighborhood','Hipertension': 'hypertension','Handcap': 'Handicap'}, inplace=True)\n",
    "df.head(1)\n",
    "\n",
    "#On doit mettre tous les lettres en lowercase et remplacer \"-\" par \"_\" car c'est plus facile à manipuler et appeler en df.column\n",
    "df.rename(columns=lambda x: x.strip().lower().replace(\" \", \"\"), inplace=True)\n",
    "df.rename(columns=lambda x: x.strip().lower().replace(\"-\", \"\"), inplace=True)\n",
    "df.rename(columns=lambda x: x.strip().lower().replace(\"_\", \"\"), inplace=True)\n",
    "df.head(1)"
   ]
  },
  {
   "cell_type": "markdown",
   "metadata": {},
   "source": [
    "<a id='eda'></a>\n",
    "## Exploratory Data Analysis\n",
    "\n",
    "# (1d) and multiple-variable (2d) explorations.\n",
    "\n"
   ]
  },
  {
   "cell_type": "code",
   "execution_count": 5,
   "metadata": {},
   "outputs": [
    {
     "data": {
      "image/png": "[encoded data removed]",
      "text/plain": [
       "<matplotlib.figure.Figure at 0x7f71957b5438>"
      ]
     },
     "metadata": {},
     "output_type": "display_data"
    },
    {
     "name": "stdout",
     "output_type": "stream",
     "text": [
      "No     0.798066\n",
      "Yes    0.201934\n",
      "Name: noshow, dtype: float64\n"
     ]
    }
   ],
   "source": [
    "#Taux d'abscence\n",
    "\n",
    "values=df.noshow.value_counts(normalize=True)\n",
    "labels=df.noshow.unique().tolist()\n",
    "plt.pie(values,labels=labels)\n",
    "plt.title('Taux des abscences vs taux des présences')\n",
    "plt.show()\n",
    "print(values)"
   ]
  },
  {
   "cell_type": "code",
   "execution_count": 6,
   "metadata": {},
   "outputs": [
    {
     "name": "stdout",
     "output_type": "stream",
     "text": [
      "(array([  1.99440000e+04,   1.47320000e+04,   1.69490000e+04,\n",
      "         1.59600000e+04,   1.86750000e+04,   1.41370000e+04,\n",
      "         7.27700000e+03,   2.61000000e+03,   2.37000000e+02,\n",
      "         5.00000000e+00]), array([   0. ,   11.5,   23. ,   34.5,   46. ,   57.5,   69. ,   80.5,\n",
      "         92. ,  103.5,  115. ]), <a list of 10 Patch objects>)\n"
     ]
    },
    {
     "data": {
      "image/png": "[encoded data removed]",
      "text/plain": [
       "<matplotlib.figure.Figure at 0x7f7195fd1358>"
      ]
     },
     "metadata": {
      "needs_background": "light"
     },
     "output_type": "display_data"
    }
   ],
   "source": [
    "h=plt.hist(df.age,bins=10)\n",
    "print(h)\n",
    "plt.title('Distribution Age')\n",
    "plt.xlabel('age')\n",
    "plt.ylabel('Nombre des individus par catégorie de age')\n",
    "plt.show()"
   ]
  },
  {
   "cell_type": "code",
   "execution_count": 9,
   "metadata": {},
   "outputs": [
    {
     "data": {
      "text/plain": [
       "[Text(0.5,1,'No show Vs Age')]"
      ]
     },
     "execution_count": 9,
     "metadata": {},
     "output_type": "execute_result"
    },
    {
     "data": {
      "image/png": "[encoded data removed]",
      "text/plain": [
       "<matplotlib.figure.Figure at 0x7fc5abd23940>"
      ]
     },
     "metadata": {
      "needs_background": "light"
     },
     "output_type": "display_data"
    }
   ],
   "source": [
    "# box plot illustration\n",
    "sns.boxplot(x='noshow', y='age', data=df).set(title='No show Vs Age')"
   ]
  },
  {
   "cell_type": "markdown",
   "metadata": {},
   "source": [
    "#Pourcentage des abscences\n",
    "En dessinant le piechart, on peut déduire que le taux d'abscence dans les rendez-vous est de 20,2%.\n",
    "\n",
    "#Distribution de l'age \n",
    "La tranche d'age la plus présente dans l'echantillon (parmi les 10 tranches définies dans le graphe) est celle entre 0 et 11,5 ans ( enfants).\n",
    "\n",
    " \n",
    "#Lien age et abscence en rendez-vous\n",
    "\n",
    "D'aprés les boxplots, on remarque que les gens qui s'absentent (Yes) au rendez-vous ont tendance a etre plus jeune que ceux qui se présentent au rendez-vous. "
   ]
  },
  {
   "cell_type": "markdown",
   "metadata": {},
   "source": [
    "### Les caracteristiques du rendez-vous explicatifs de l'absence "
   ]
  },
  {
   "cell_type": "code",
   "execution_count": 8,
   "metadata": {},
   "outputs": [
    {
     "name": "stdout",
     "output_type": "stream",
     "text": [
      "5    0.230769\n",
      "dtype: float64\n",
      "3    0.806459\n",
      "dtype: float64\n"
     ]
    }
   ],
   "source": [
    "df_abscent=df[df.noshow=='Yes']\n",
    "df_present=df[df.noshow=='No']\n",
    "\n",
    "#Est ce que le jour de a prise de rendez-vous influe sur la possibilité d'abscence?\n",
    "nbre_abscence_jour=df_abscent.appointmentday.dt.dayofweek.value_counts()\n",
    "nbre_presence_jour=df_present.appointmentday.dt.dayofweek.value_counts()\n",
    "nbre_rdv_jour=df.appointmentday.dt.dayofweek.value_counts()\n",
    "Effet_jour_rdv0=pd.concat([nbre_rdv_jour,nbre_abscence_jour],axis=1)\n",
    "Effet_jour_rdv=pd.concat([Effet_jour_rdv0,nbre_presence_jour],axis=1)\n",
    "Effet_jour_rdv.columns=['rdv','abscence','presence']\n",
    "taux_abscence_jour=Effet_jour_rdv.abscence/Effet_jour_rdv.rdv\n",
    "print(taux_abscence_jour[taux_abscence_jour==max(taux_abscence_jour)])\n",
    "taux_presence_jour=Effet_jour_rdv.presence/Effet_jour_rdv.rdv\n",
    "print(taux_presence_jour[taux_presence_jour==max(taux_presence_jour)])\n",
    "\n",
    "\n"
   ]
  },
  {
   "cell_type": "code",
   "execution_count": 12,
   "metadata": {},
   "outputs": [
    {
     "name": "stdout",
     "output_type": "stream",
     "text": [
      "0    15.832385\n",
      "dtype: float64\n",
      "0    8.754759\n",
      "dtype: float64\n",
      "ILHA DO BOI    0.085714\n",
      "dtype: float64\n"
     ]
    },
    {
     "data": {
      "image/png": "[encoded data removed]",
      "text/plain": [
       "<matplotlib.figure.Figure at 0x7fc5aa4f5be0>"
      ]
     },
     "metadata": {
      "needs_background": "light"
     },
     "output_type": "display_data"
    }
   ],
   "source": [
    "#Est-ce que l’ecart entre appointement date et scheduled date explique le no show ?\n",
    "ecart_abscent=df_abscent.appointmentday.dt.date-df_abscent.scheduledday.dt.date #dt.date pour ne pas avoir -1 à cause de l'heure de meme jour\n",
    "ecart_abscent=ecart_abscent.astype('str').str.extract('(\\d+)').astype(int)\n",
    "ecart_moyen_en_jour_pour_les_abscents=ecart_abscent.mean()\n",
    "print(ecart_moyen_en_jour_pour_les_abscents)\n",
    "\n",
    "ecart_present=df_present.appointmentday.dt.date-df_present.scheduledday.dt.date\n",
    "ecart_present=ecart_present.astype('str').str.extract('(\\d+)').astype(int)\n",
    "ecart_moyen_en_jour_pour_les_presents=ecart_present.mean()\n",
    "print(ecart_moyen_en_jour_pour_les_presents)\n",
    "\n",
    "\n",
    "#Est ce que la ville du rdv explique l'abscence des patients ?\n",
    "neighborhood_occurence=df.neighborhood.value_counts()\n",
    "neighborhood_occurence\n",
    "neighborhood_occurence_abscence=df_abscent.neighborhood.value_counts()\n",
    "neighborhood_occurence_abscence\n",
    "effet_neighborhood=pd.concat([neighborhood_occurence,neighborhood_occurence_abscence],axis=1,sort=True)\n",
    "effet_neighborhood.columns=['rdv','abscence']\n",
    "taux_abscence_neighborhood=effet_neighborhood.abscence/effet_neighborhood.rdv\n",
    "print(taux_abscence_neighborhood[taux_abscence_neighborhood==min(taux_abscence_neighborhood)])\n",
    "plt.scatter(x=taux_abscence_neighborhood.index,y=taux_abscence_neighborhood)\n",
    "plt.xlabel(\"Ville\")\n",
    "plt.ylabel(\"Taux d'abscence dans la ville\")\n",
    "plt.title(\"Ville Vs taux des abscences\")\n",
    "plt.show()"
   ]
  },
  {
   "cell_type": "markdown",
   "metadata": {},
   "source": [
    "#Est ce que le jour de a prise de rendez-vous influe sur la possibilité d'abscence?\n",
    "\n",
    "L'output de la fonction dayofweek of week de pandas renvoie:\n",
    "0 si lundi\n",
    "1 si mardi\n",
    "2 si mercredi\n",
    "3 si jeudi\n",
    "4 si vendredi\n",
    "5 si samedi\n",
    "6 si dimanche\n",
    "On constate que le taux d'abscence maximum est constaté le samedi ( les gens prefere passer leur samedi dans un autre lieu que le cabinet du docteur) alors que le taux de presence maximale est constaté le jeudi ( 80% des patients qui reserve le jeudi se présente au rendez-vous).\n",
    "\n",
    "\n",
    "#Est-ce que l’ecart entre appointement date et scheduled date explique le no show ?\n",
    "\n",
    "On remarque que la moyenne des jours d'attente (entre la date de prise du rdv est celle du rdv ) est de 15 jours pour les individus qui s'absentent alors que elle est de 8 jours pour les patients qui se présentent à leurs rdv.\n",
    "on peut donc dire que le délai d'attente peut etre un facteur explicatif de l'abscence des patients.\n",
    "\n",
    "\n",
    "\n",
    "\n",
    "#Est ce que la ville du rendez-vous est un facteur explicatif de l'abscence?\n",
    "Les taux d'abscence par ville sont proches d'aprés le scatterplot donc ce n'est pas forcément un facteur explicatif de l'abscence des patients.Cependant on peut tirer des constats intéressants tel que le fait que le taux d'abscence dans ILHAS OCEÂNICAS DE TRINDADE est de 100% et le taux d'abscence dans ILHA DO BOIS est proche de 0%.\n"
   ]
  },
  {
   "cell_type": "markdown",
   "metadata": {},
   "source": [
    "### Les features du patient explicatifs de l'absence"
   ]
  },
  {
   "cell_type": "code",
   "execution_count": 13,
   "metadata": {},
   "outputs": [
    {
     "name": "stdout",
     "output_type": "stream",
     "text": [
      "1.421987e+12    18\n",
      "Name: patientid, dtype: int64\n",
      "F    71839\n",
      "M    38687\n",
      "Name: gender, dtype: int64\n",
      "F    0.203149\n",
      "M    0.199679\n",
      "dtype: float64\n",
      "34.3176665621\n",
      "37.790504155\n"
     ]
    }
   ],
   "source": [
    "\n",
    "#L’identifiant du patient qui a le plus raté des rendez vous ?\n",
    "df_nbre_rdv_rate = df_abscent.patientid.value_counts()\n",
    "print(df_nbre_rdv_rate[df_nbre_rdv_rate==max(df_nbre_rdv_rate)])\n",
    "\n",
    "#Est ce que le sexe du patient peut etre un facteur explicatif de son absentéisme?\n",
    "nombre_rdv_sexe=df.gender.value_counts()\n",
    "print(nombre_rdv_sexe)\n",
    "nombre_abscence_sexe=df_abscent.gender.value_counts()\n",
    "effet_sexe=pd.concat([nombre_rdv_sexe,nombre_abscence_sexe],axis=1,sort=True)\n",
    "effet_sexe.columns=['rdv','abscence']\n",
    "Pourcentage_abscence_par_sexe=effet_sexe.abscence/effet_sexe.rdv\n",
    "print(Pourcentage_abscence_par_sexe)\n",
    "\n",
    "\n",
    "\n",
    "#Est ce que l'age du patient peut etre un facteur explicatif de son absentéisme?\n",
    "age_moyen_abscent=df_abscent.age.mean()\n",
    "print(age_moyen_abscent)\n",
    "age_moyen_present=df_present.age.mean()\n",
    "print(age_moyen_present)\n",
    "\n",
    "\n"
   ]
  },
  {
   "cell_type": "markdown",
   "metadata": {},
   "source": [
    "#Est ce que le sexe du patient peut etre un facteur explicatif de son absentéisme?\n",
    "\n",
    "On constate que les taux d'absence chez les hommes et les femmes sont trés proches.Ainsi, le sexe du patient n'explique pas son comportement ( abscent ou présent)\n",
    "\n",
    "\n",
    "#Est ce que l'age du patient peut etre un facteur explicatif de son absentéisme?\n",
    "\n",
    "On constate que l'age moyen des patients qui ratent leurs rendez vous est de 34,3 ans alors que celui qui se présente au rendez-vous est de 37,8 ans. Les abscents sont plus jeunes que les présents de 3,5 ans en moyenne.\n"
   ]
  },
  {
   "cell_type": "markdown",
   "metadata": {},
   "source": [
    "### Research Question 2 "
   ]
  },
  {
   "cell_type": "code",
   "execution_count": 11,
   "metadata": {},
   "outputs": [
    {
     "data": {
      "image/png": "[encoded data removed]",
      "text/plain": [
       "<matplotlib.figure.Figure at 0x7f71960d19b0>"
      ]
     },
     "metadata": {
      "needs_background": "light"
     },
     "output_type": "display_data"
    }
   ],
   "source": [
    "#Y’a une correlation entre une feature du patient (aide financière,hypertension,diabete,alcoolism) et rater les rdv ?\n",
    "x = ['scholarship','hypertension','diabetes','alcoholism','sms_received']\n",
    "y1 = [df_abscent.scholarship.sum()/df.scholarship.sum(), df_abscent.hypertension.sum()/df.hypertension.sum(),df_abscent.diabetes.sum()/df.diabetes.sum(),df_abscent.alcoholism.sum()/df.alcoholism.sum(),df_abscent.smsreceived.sum()/df.smsreceived.sum()]\n",
    "y2 = [df_present.scholarship.sum()/df.scholarship.sum(), df_present.hypertension.sum()/df.hypertension.sum(),df_present.diabetes.sum()/df.diabetes.sum(),df_present.alcoholism.sum()/df.alcoholism.sum(),df_present.smsreceived.sum()/df.smsreceived.sum()]\n",
    "\n",
    "# plot stacked bar chart \n",
    "plt.bar(x, y1, color='g')\n",
    "plt.bar(x, y2, bottom=y1, color='y')\n",
    "plt.xlabel(\"Caractéristique du patient\")\n",
    "plt.ylabel(\"Taux d'absence chez les individus ayant la caractréistique (en vert)\")\n",
    "plt.title(\"Caracteristique des patients Vs Taux des abscences/presences\")\n",
    "Taux=['Taux des abscences','Taux des presences']\n",
    "plt.legend(Taux,loc=10)\n",
    "plt.show()\n",
    "\n",
    "\n",
    "\n"
   ]
  },
  {
   "cell_type": "markdown",
   "metadata": {},
   "source": [
    "#Est ce que les patients alcoliques ont plus de tendance à se présenter au rendez-vous?\n",
    "Oui, en effet 80% des patients alcoliques se présentent à leurs rendez-vous.\n",
    "\n",
    "\n",
    "#Est ce que les patients diabetiques ont plus de tendance à se présenter au rendez-vous?\n",
    "Oui, en effet plus que 80% des patients diabetiques se présentent à leurs rendez-vous.\n",
    "\n",
    "\n",
    "#Est ce que les patients qui souffrent de l'hypertension ont plus de tendance à se présenter au rendez-vous?\n",
    "Oui, en effet plus que 80% des patients qui souffrent de l'hypertension se présentent à leurs rendez-vous.\n",
    "\n",
    "\n",
    "#Est ce que les patients qui bénéficie d'une aide financière ont plus de tendance à se présenter au rendez-vous?\n",
    "Oui, en effet environ 70% des patients qui bénéficie d'une aide financière se présentent à leurs rendez-vous.\n",
    "\n",
    "\n",
    "#Est ce que la réception d'un sms par le patient augmente la chance qu'il se présente au rendez-vous?\n",
    "Oui, en effet environ 70% des patients qui reçoivent un sms se présentent au rdv.\n",
    "\n",
    "\n"
   ]
  },
  {
   "cell_type": "code",
   "execution_count": 12,
   "metadata": {},
   "outputs": [
    {
     "data": {
      "image/png": "[encoded data removed]",
      "text/plain": [
       "<matplotlib.figure.Figure at 0x7f71961a7358>"
      ]
     },
     "metadata": {
      "needs_background": "light"
     },
     "output_type": "display_data"
    },
    {
     "data": {
      "image/png": "[encoded data removed]",
      "text/plain": [
       "<matplotlib.figure.Figure at 0x7f71961a7550>"
      ]
     },
     "metadata": {
      "needs_background": "light"
     },
     "output_type": "display_data"
    }
   ],
   "source": [
    "nombre_abscent_par_categorie_handicap=df_abscent.handicap.value_counts()\n",
    "nombre_abscent_par_categorie_handicap\n",
    "\n",
    "nombre_present_par_categorie_handicap=df_present.handicap.value_counts()\n",
    "nombre_present_par_categorie_handicap\n",
    "\n",
    "nbre_par_categorie_handidcap=df.handicap.value_counts()\n",
    "nbre_par_categorie_handidcap\n",
    "\n",
    "Pourcentage_abscence_categorie_handicap=nombre_abscent_par_categorie_handicap/nbre_par_categorie_handidcap\n",
    "Pourcentage_abscence_categorie_handicap\n",
    "\n",
    "\n",
    "Pourcentage_presence_categorie_handicap=nombre_present_par_categorie_handicap/nbre_par_categorie_handidcap\n",
    "Pourcentage_presence_categorie_handicap\n",
    "\n",
    "x = ['0','1','2','3','4']\n",
    "\n",
    "y1 = Pourcentage_abscence_categorie_handicap\n",
    "#plt.bar(x, y1, color='g')\n",
    "#plt.xlabel(\"Catégorie d'handicap\")\n",
    "#plt.ylabel(\" Pourcentage abscence categorie d'handicap\")\n",
    "#plt.show()\n",
    "\n",
    "\n",
    "y2 = Pourcentage_presence_categorie_handicap\n",
    "#plt.bar(x, y2, color='b')\n",
    "#plt.xlabel(\"Catégorie d'handicap\")\n",
    "#plt.ylabel(\" Pourcentage presence categorie d'handicap\")\n",
    "#plt.show()\n",
    "\n",
    "\n",
    "def barplot(x,y,color,z,label_x,label_y):\n",
    "    plt.bar(x, y, color=color)\n",
    "    plt.xlabel(label_x)\n",
    "    plt.ylabel(label_y)\n",
    "    plt.title(z)\n",
    "    plt.show() \n",
    "\n",
    "    \n",
    "\n",
    "barplot(x, y1,'g',\"categorie d'handicap Vs taux d'abscence\",\"Catégorie d'handicap\",\" Pourcentage abscence categorie d'handicap\")\n",
    "barplot(x, y2,'b',\"categorie d'handicap Vs taux de presence\",\"Catégorie d'handicap\",\" Pourcentage presence categorie d'handicap\")"
   ]
  },
  {
   "cell_type": "markdown",
   "metadata": {},
   "source": [
    "Est ce la présence d'un handicap augmente la chance du présence? Si oui, quel handicap?\n",
    "\n",
    "On remarque que le taux d'abscence augmente avec l'aggravation de l'handicap ( sauf pour la catégorie 1 qui est legerement inférieur à la catégorie 0).\n",
    "On constate donc que lorsque le patient est handicapé la probabilité de son abscence lors du rendez-vous augmente.Cette probabilité d'abscence augmente d'avantage avec l'aggravation de l'handicap"
   ]
  },
  {
   "cell_type": "markdown",
   "metadata": {},
   "source": [
    "## Conclusions\n",
    "\n",
    "# Limitations\n",
    " \n",
    "\n",
    "Limitation 1: Echantillon representatif\n",
    "Pour pouvoir valider les conclusions tirées de cette étude il vaudrait mieux vérifier que l'echantillon sur lequel l'étude a été menée est répresentatif des différents profils des patients.\n",
    "\n",
    "Limitation 2: Je pense qu'il serait interessant de categoriser les rendez vous medicaux selon la spécialité.En effet chaque spécialité peut avoir ses propres facteurs explicatifs des abscences ( pour les medecins qui traite le diabete, il est logiqu de trouver que les diabetiques presentent des taux d'abscence faibles alors que les diabetiques peuvent s'absenter lors d'un rendez-vous avec un médecin qui traite l'hypertension par exemple)\n",
    "\n",
    "Limitation 3: Une autre information supplémentaire qui peut etre utile est le pays de résidence du patient. Ceci permet d'etudier si la distance à parcourir explique l'eventuel abscence et ça peut etre plus parlant que d'étudier la ville du rendez-vous individuellement.\n",
    "\n",
    "# Findings\n",
    "\n",
    "Les facteurs explicatifs one été catégorisé en deux types de facteur : des facteurs relatifs au médecin(rendez-vous) et des facteurs relatifs au patient.\n",
    "On a constaté que:\n",
    "- Les patients ont plus tendance à s'absenté pour les rendez-vous de samedi et se présenter le jeudi.\n",
    "\n",
    "-Plus le délai d'attente augmente, plus le taux d'abscence augmente\n",
    "\n",
    "\n",
    "- les jeunes s'absentent plus que les plus agés\n",
    "\n",
    "-Les rendez vous à ILHAS OCEÂNICAS DE TRINDADE ont une forte probabilité d'etre ratés\n",
    "\n",
    "-Les patients alcoliques ont plus de tendance à se présenter au rendez-vous\n",
    "\n",
    "-Les patients diabetiques ont plus de tendance à se présenter au rendez-vous\n",
    "\n",
    "\n",
    "-Les patients qui souffrent de l'hypertension ont plus de tendance à se présenter au rendez-vous\n",
    "\n",
    "\n",
    "-Les patients qui bénéficie d'une aide financière ont plus de tendance à se présenter au rendez-vous\n",
    "\n",
    "\n",
    "-La réception d'un sms par le patient augmente la chance qu'il se présente au rendez-vous.Le docteur peut renforcer cette stratégie pour booster le taux de présence.\n",
    "\n",
    "-Le taux d'abscence augmente avec l'aggravation de l'handicap ( sauf pour la catégorie 1 qui est legerement inférieur à la catégorie 0).\n",
    "On constate donc que lorsque le patient est handicapé la probabilité de son abscence lors du rendez-vous augmente.Cette probabilité d'abscence augmente d'avantage avec l'aggravation de l'handicap\n",
    "\n",
    "\n"
   ]
  },
  {
   "cell_type": "code",
   "execution_count": 13,
   "metadata": {},
   "outputs": [
    {
     "data": {
      "text/plain": [
       "0"
      ]
     },
     "execution_count": 13,
     "metadata": {},
     "output_type": "execute_result"
    }
   ],
   "source": [
    "from subprocess import call\n",
    "call(['python', '-m', 'nbconvert', 'Investigate_a_Dataset.ipynb'])"
   ]
  }
 ],
 "metadata": {
  "kernelspec": {
   "display_name": "Python 3",
   "language": "python",
   "name": "python3"
  },
  "language_info": {
   "codemirror_mode": {
    "name": "ipython",
    "version": 3
   },
   "file_extension": ".py",
   "mimetype": "text/x-python",
   "name": "python",
   "nbconvert_exporter": "python",
   "pygments_lexer": "ipython3",
   "version": "3.6.3"
  }
 },
 "nbformat": 4,
 "nbformat_minor": 2
}
